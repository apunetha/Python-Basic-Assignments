{
 "cells": [
  {
   "cell_type": "raw",
   "id": "2a0c8773",
   "metadata": {},
   "source": [
    "Why are functions advantageous to have in your programs?\n",
    "\n",
    "ans: Advantages of Functions in program:\n",
    "    1> Modularity of program\n",
    "    2> Reusablity of code\n",
    "    3> easy to handle errors"
   ]
  },
  {
   "cell_type": "raw",
   "id": "ff4f5e23",
   "metadata": {},
   "source": [
    "When does the code in a function run: when it's specified or when it's called?\n",
    "\n",
    "ans: When it is  called "
   ]
  },
  {
   "cell_type": "raw",
   "id": "d6a3a332",
   "metadata": {},
   "source": [
    "What statement creates a function?\n",
    "ans : def Function_name(parameters):\n",
    "        Body of function"
   ]
  },
  {
   "cell_type": "raw",
   "id": "d242e9c4",
   "metadata": {},
   "source": [
    "What is the difference between a function and a function call?\n",
    "\n",
    "ans: A function is a procedure to achieve a perticular result and function call is using this function to achieve that task."
   ]
  },
  {
   "cell_type": "raw",
   "id": "91e0255b",
   "metadata": {},
   "source": [
    "How many global scopes are there in a Python program? How many local scopes?\n",
    "\n",
    "ans: There is only one global scope and one local scope in Python program."
   ]
  },
  {
   "cell_type": "raw",
   "id": "595c2e78",
   "metadata": {},
   "source": [
    "What happens to variables in a local scope when the function call returns?\n",
    "ans: A concept is used garbage collector, which is applied to variables when it goes out of scope and destorys the memory hold by variable."
   ]
  },
  {
   "cell_type": "raw",
   "id": "eb9824e1",
   "metadata": {},
   "source": [
    "What is the concept of a return value? Is it possible to have a return value in an expression?\n",
    "\n",
    "ans: A return is a value that a function returns to the calling script or function when it completes its task. A return value can be any one of the four variable types: handle, integer, object, or string.Yes it can be in expression but it returns the evaluated value of expression."
   ]
  },
  {
   "cell_type": "raw",
   "id": "a82efbd6",
   "metadata": {},
   "source": [
    ". If a function does not have a return statement, what is the return value of a call to that function?\n",
    "\n",
    "ans: NULL"
   ]
  },
  {
   "cell_type": "raw",
   "id": "09aa1887",
   "metadata": {},
   "source": [
    "How do you make a function variable refer to the global variable?\n",
    "\n",
    "ans: If you want to refer to a global variable in a function, you can use the global keyword to declare which variables are global."
   ]
  },
  {
   "cell_type": "raw",
   "id": "1c6c3334",
   "metadata": {},
   "source": [
    "What is the data type of None?"
   ]
  },
  {
   "cell_type": "code",
   "execution_count": 2,
   "id": "7a65ce9b",
   "metadata": {},
   "outputs": [
    {
     "name": "stdout",
     "output_type": "stream",
     "text": [
      "<class 'NoneType'>\n"
     ]
    }
   ],
   "source": [
    "print(type(None))\n",
    "# NoneType"
   ]
  },
  {
   "cell_type": "raw",
   "id": "c7124aea",
   "metadata": {},
   "source": [
    "What does the sentence import areallyourpetsnamederic do?\n",
    "ans: That import statement imports a module named areallyourpetsnamederic."
   ]
  },
  {
   "cell_type": "raw",
   "id": "bd67657a",
   "metadata": {},
   "source": [
    "If you had a bacon() feature in a spam module, what would you call it after importing spam?\n",
    "\n",
    "ans: spam.bacon()"
   ]
  },
  {
   "cell_type": "raw",
   "id": "a254e943",
   "metadata": {},
   "source": [
    "What can you do to save a programme from crashing if it encounters an error?\n",
    "\n",
    "ans: we can handle it by using Exceptional handling concept where we use Try block to write a condition or statement which can give error and crash program and handle that error we use except block"
   ]
  },
  {
   "cell_type": "raw",
   "id": "6551d20a",
   "metadata": {},
   "source": [
    "What is the purpose of the try clause? What is the purpose of the except clause?\n",
    "\n",
    "ans: Try clause is use to write a condition or statement which can give error and crash program\n",
    "and Except clause is used to handle the error if any error occured in try block statments"
   ]
  },
  {
   "cell_type": "code",
   "execution_count": null,
   "id": "433ca020",
   "metadata": {},
   "outputs": [],
   "source": []
  }
 ],
 "metadata": {
  "kernelspec": {
   "display_name": "Python 3 (ipykernel)",
   "language": "python",
   "name": "python3"
  },
  "language_info": {
   "codemirror_mode": {
    "name": "ipython",
    "version": 3
   },
   "file_extension": ".py",
   "mimetype": "text/x-python",
   "name": "python",
   "nbconvert_exporter": "python",
   "pygments_lexer": "ipython3",
   "version": "3.9.7"
  }
 },
 "nbformat": 4,
 "nbformat_minor": 5
}
