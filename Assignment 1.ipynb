{
 "cells": [
  {
   "cell_type": "markdown",
   "id": "fcd7c263",
   "metadata": {},
   "source": [
    "## Assignment 1"
   ]
  },
  {
   "cell_type": "raw",
   "id": "14a62fc7",
   "metadata": {},
   "source": [
    "1. In the below elements which of them are values or an expression? eg:- values can be integer or string and expressions will be mathematical operators.\n",
    "\n",
    "*               -- Operator \n",
    "'hello'         -- Value\n",
    "-87.8           -- Value\n",
    "-               -- Operator\n",
    "/               -- Operator\n",
    "+\t            -- Operator\n",
    "6               -- Value\n"
   ]
  },
  {
   "cell_type": "raw",
   "id": "272e3ac7",
   "metadata": {},
   "source": [
    "2. What is the difference between string and variable?\n",
    "\n",
    "String : string is a type of data type where we can store in alpha, alphanumerci under '' single inverted comma and \"\" double inverted comma. Eg : \"aman\", 'punetha', 'UK07', these all are strings \n",
    "\n",
    "Variable : It is a token by which we can store any type of data for further use in program or code. Eg: a = \"aman\", b= 345,\n",
    "a and b are variables"
   ]
  },
  {
   "cell_type": "raw",
   "id": "19a962fd",
   "metadata": {},
   "source": [
    "3. Describe three different data types.\n",
    "\n",
    "String: string is a type of data type where we can store in alpha, alphanumerci under '' single inverted comma and \"\" double inverted comma. Eg : a=\"aman\", b='punetha', c='UK07', these a,b,c are strings data type variable\n",
    "\n",
    "integer : integer is a type of data type where we can store numberic data Eg: a=456,b=543\n",
    "\n",
    "bool = bool is a type of datatype where we can store True or False. This is used where we want the result as true or false as in condition checks"
   ]
  },
  {
   "cell_type": "raw",
   "id": "4961f157",
   "metadata": {},
   "source": [
    "4. What is an expression made up of? What do all expressions do?\n",
    "\n",
    "Expresion is made of values and operators.For eg : 34*45 , 5423*745387+ (4567*4579)\n",
    "Expresion are used as calculations"
   ]
  },
  {
   "cell_type": "raw",
   "id": "58e96f2b",
   "metadata": {},
   "source": [
    "5.This assignment statements, like spam = 10. What is the difference between an expression and a statement?\n",
    "\n",
    "Statement is collection of expression and sentences.\n",
    "Expresion is basically a combination of values and operators for calculations"
   ]
  },
  {
   "cell_type": "raw",
   "id": "5c3f1b9f",
   "metadata": {},
   "source": [
    "6. After running the following code, what does the variable bacon contain?\n",
    "bacon = 22\n",
    "bacon + 1\n",
    "\n",
    "bacon wil contain 22 as value because in second line we only printing the value of bacon +1 only assigning the value to bacon\n"
   ]
  },
  {
   "cell_type": "raw",
   "id": "d855afd2",
   "metadata": {},
   "source": [
    "7. What should the values of the following two terms be?\n",
    "'spam' + 'spamspam'\n",
    "'spam' * 3\n",
    "\n",
    "for first line of code\n",
    "spamspamspam\n",
    "It is the concatination statment of string\n",
    "\n",
    "for second line of code\n",
    "spamspamspam\n",
    "It is mutliply statement for string which we usually can see in python language"
   ]
  },
  {
   "cell_type": "raw",
   "id": "1a841f65",
   "metadata": {},
   "source": [
    "8.Why is eggs a valid variable name while 100 is invalid?\n",
    "\n",
    "According the valid declaration rule of variable : variable must starts with alpha.It cna be combinatin of alpha numeric but alpha should be the first starting in variable declaration.\n",
    "Here also eggs is a valid variable since it is following rule of variable and 100 is pure numeric which is not following rule of variable."
   ]
  },
  {
   "cell_type": "raw",
   "id": "4ae52b55",
   "metadata": {},
   "source": [
    "9. What three functions can be used to get the integer, floating-point number, or string version of a value?\n",
    "\n",
    "for getting user input value we use input() function which gives string by default\n",
    "for getting user input value as integer we use int() to type case the value\n",
    "and for float we use float() and for string type caste we use str()"
   ]
  },
  {
   "cell_type": "raw",
   "id": "7d883365",
   "metadata": {},
   "source": [
    "10. Why does this expression cause an error? How can you fix it?\n",
    "'I have eaten ' + 99 + ' burritos.'\n",
    "\n",
    "yes this expression will cause error (TypeError :  can only concatenate str (not \"int\") to str , because 99 in not string \n",
    "We can correct by type casting to str\n",
    "'I have eaten ' + str(99) + ' burritos.'\n",
    "or just write 99 in single or double inverted comman as \"99\" or '99'\n",
    "'I have eaten '+'99' + ' burritos.'\n",
    "'I have eaten '+\"99\" + ' burritos.'"
   ]
  },
  {
   "cell_type": "code",
   "execution_count": 5,
   "id": "2010c20f",
   "metadata": {},
   "outputs": [
    {
     "data": {
      "text/plain": [
       "'I have eaten 99 burritos.'"
      ]
     },
     "execution_count": 5,
     "metadata": {},
     "output_type": "execute_result"
    }
   ],
   "source": [
    "'I have eaten ' + str(99) + ' burritos.'\n",
    "'I have eaten '+'99' + ' burritos.'\n",
    "'I have eaten '+\"99\" + ' burritos.'"
   ]
  },
  {
   "cell_type": "code",
   "execution_count": null,
   "id": "e1e4ead0",
   "metadata": {},
   "outputs": [],
   "source": []
  }
 ],
 "metadata": {
  "kernelspec": {
   "display_name": "Python 3 (ipykernel)",
   "language": "python",
   "name": "python3"
  },
  "language_info": {
   "codemirror_mode": {
    "name": "ipython",
    "version": 3
   },
   "file_extension": ".py",
   "mimetype": "text/x-python",
   "name": "python",
   "nbconvert_exporter": "python",
   "pygments_lexer": "ipython3",
   "version": "3.9.7"
  }
 },
 "nbformat": 4,
 "nbformat_minor": 5
}
