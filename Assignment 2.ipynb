{
 "cells": [
  {
   "cell_type": "raw",
   "id": "65b80f70",
   "metadata": {},
   "source": [
    "What are the two values of the Boolean data type? How do you write them?"
   ]
  },
  {
   "cell_type": "code",
   "execution_count": 3,
   "id": "84eb3af3",
   "metadata": {},
   "outputs": [
    {
     "name": "stdout",
     "output_type": "stream",
     "text": [
      "True\n",
      "False\n"
     ]
    }
   ],
   "source": [
    "\"\"\"\n",
    "ans:Two values of booleans are True or False.\n",
    "Syntax: True, False\n",
    "\"\"\"\n",
    "print(True)\n",
    "print(False)"
   ]
  },
  {
   "cell_type": "raw",
   "id": "8527b4fe",
   "metadata": {},
   "source": [
    "What are the three different types of Boolean operators?"
   ]
  },
  {
   "cell_type": "code",
   "execution_count": 4,
   "id": "3a088d6f",
   "metadata": {},
   "outputs": [
    {
     "data": {
      "text/plain": [
       "'\\nans: Three different types of Boolean operators are:\\nand: & \\nor: ||\\nnot: !\\n'"
      ]
     },
     "execution_count": 4,
     "metadata": {},
     "output_type": "execute_result"
    }
   ],
   "source": [
    "\"\"\"\n",
    "ans: Three different types of Boolean operators are:\n",
    "and: & \n",
    "or: ||\n",
    "not: !\n",
    "\"\"\""
   ]
  },
  {
   "cell_type": "raw",
   "id": "d39bf89d",
   "metadata": {},
   "source": [
    "Make a list of each Boolean operator's truth tables (i.e. every possible combination of Boolean values for the operator and what it evaluate )."
   ]
  },
  {
   "cell_type": "code",
   "execution_count": null,
   "id": "d7f2843c",
   "metadata": {},
   "outputs": [],
   "source": [
    "\"\"\"\n",
    "ans :\n",
    "\n",
    "Truth Table of \"and\" \n",
    "\n",
    "Input 1 Input 2 Output\n",
    "True    True    True\n",
    "True    False   False\n",
    "False   True   False\n",
    "False   False   False\n",
    "\n",
    "\n",
    "Truth Table of \"or\" \n",
    "\n",
    "Input 1 Input 2 Output\n",
    "True    True    True\n",
    "True    False   True\n",
    "False   True    True\n",
    "False   False   False\n",
    "\n",
    "\n",
    "Truth Table of \"not\"\n",
    "\n",
    "Input Output\n",
    "True  False\n",
    "False True\n",
    "\"\"\"\n"
   ]
  },
  {
   "cell_type": "raw",
   "id": "492cc381",
   "metadata": {},
   "source": [
    "What are the values of the following expressions?\n",
    "(5 > 4) and (3 == 5)\n",
    "not (5 > 4)\n",
    "(5 > 4) or (3 == 5)\n",
    "not ((5 > 4) or (3 == 5))\n",
    "(True and True) and (True == False)\n",
    "(not False) or (not True)\n"
   ]
  },
  {
   "cell_type": "code",
   "execution_count": 9,
   "id": "5b62d162",
   "metadata": {},
   "outputs": [
    {
     "name": "stdout",
     "output_type": "stream",
     "text": [
      "False\n",
      "False\n",
      "True\n",
      "False\n",
      "False\n",
      "True\n"
     ]
    }
   ],
   "source": [
    "print((5 > 4) and (3==5))\n",
    "print(not(5>4))\n",
    "print((5>4) or (3==5))\n",
    "print(not ((5 > 4) or (3 == 5)))\n",
    "print((True and True) and (True == False))\n",
    "print((not False) or (not True))"
   ]
  },
  {
   "cell_type": "raw",
   "id": "6cd605bd",
   "metadata": {},
   "source": [
    "What are the six comparison operators\n",
    "ans:  greate than \">\"\n",
    "      less than   \"<\"\n",
    "      greater than equals  \">=\"\n",
    "      less than equals     \"<=\"\n",
    "      equals  \"==\"\n",
    "      not equals \"!=\""
   ]
  },
  {
   "cell_type": "raw",
   "id": "2ffb1c28",
   "metadata": {},
   "source": [
    "How do you tell the difference between the equal to and assignment operators?Describe a condition and when you would use one.\n",
    "\n",
    "ans:\n",
    "assignemnt operator syntax with eg: a=5,b=5\n",
    "equals operator syntax with eg : a==b, 5==5,\"aman\"==\"aman\""
   ]
  },
  {
   "cell_type": "raw",
   "id": "08efa2ab",
   "metadata": {},
   "source": [
    "Identify the three blocks in this code:\n",
    "\n",
    "spam = 0\n",
    "#block 1\n",
    "if spam == 10: \n",
    "    print('eggs')\n",
    "#block 2\n",
    "if spam > 5:\n",
    "    print('bacon')\n",
    "#block 3\n",
    "else:\n",
    "    print('ham')\n",
    "    print('spam')\n",
    "    print('spam')\n"
   ]
  },
  {
   "cell_type": "raw",
   "id": "256db55b",
   "metadata": {},
   "source": [
    "Write code that prints Hello if 1 is stored in spam, prints Howdy if 2 is stored in spam, and prints Greetings! if anything else is stored in spam"
   ]
  },
  {
   "cell_type": "code",
   "execution_count": 10,
   "id": "b92e359d",
   "metadata": {},
   "outputs": [
    {
     "name": "stdout",
     "output_type": "stream",
     "text": [
      "2\n",
      "Howdy\n"
     ]
    }
   ],
   "source": [
    "spam =int(input())\n",
    "if(spam ==1):\n",
    "    print(\"Hello\")\n",
    "elif(spam==2):\n",
    "    print('Howdy')\n",
    "else:\n",
    "    print(\"Greetings!\")"
   ]
  },
  {
   "cell_type": "raw",
   "id": "649b9c1f",
   "metadata": {},
   "source": [
    "If your programme is stuck in an endless loop, what keys you’ll press?\n",
    "ans: CTRL + C"
   ]
  },
  {
   "cell_type": "raw",
   "id": "a2debd09",
   "metadata": {},
   "source": [
    "How can you tell the difference between break and continue?\n",
    "ans :  break is used to break the ongoing loop and \n",
    "        continue is used to skip the present iteration of the loop or condition"
   ]
  },
  {
   "cell_type": "raw",
   "id": "11a06ee9",
   "metadata": {},
   "source": [
    "In a for loop, what is the difference between range(10), range(0, 10), and range(0, 10, 1)?\n",
    "ans: range(10): means values from 0 to 9 will be generated\n",
    "     range(0,10): will also be same just a syntax is different as first parameter can be anthing which you want to startwith and second parameter will be for endswith -1 numbers\n",
    "     range(0,10,1): in this one more paramter is there for increment as per our need"
   ]
  },
  {
   "cell_type": "raw",
   "id": "7fb098da",
   "metadata": {},
   "source": [
    "rite a short program that prints the numbers 1 to 10 using a for loop. Then write an equivalent program that prints the numbers 1 to 10 using a while loop."
   ]
  },
  {
   "cell_type": "code",
   "execution_count": 17,
   "id": "b85a9ec5",
   "metadata": {},
   "outputs": [
    {
     "name": "stdout",
     "output_type": "stream",
     "text": [
      "1,2,3,4,5,6,7,8,9,10,\n",
      "0,1,2,3,4,5,6,7,8,9,10,"
     ]
    }
   ],
   "source": [
    "for i in range(1,10+1):\n",
    "    print(i,end=\",\")\n",
    "\n",
    "i=0\n",
    "print()\n",
    "while(i<=10):\n",
    "    print(i,end=\",\")\n",
    "    i+=1"
   ]
  },
  {
   "cell_type": "raw",
   "id": "93658480",
   "metadata": {},
   "source": [
    "If you had a function named bacon() inside a module named spam, how would you call it after importing spam?\n",
    "ans: spam.bacon()"
   ]
  },
  {
   "cell_type": "code",
   "execution_count": null,
   "id": "2aa35280",
   "metadata": {},
   "outputs": [],
   "source": []
  }
 ],
 "metadata": {
  "kernelspec": {
   "display_name": "Python 3 (ipykernel)",
   "language": "python",
   "name": "python3"
  },
  "language_info": {
   "codemirror_mode": {
    "name": "ipython",
    "version": 3
   },
   "file_extension": ".py",
   "mimetype": "text/x-python",
   "name": "python",
   "nbconvert_exporter": "python",
   "pygments_lexer": "ipython3",
   "version": "3.9.7"
  }
 },
 "nbformat": 4,
 "nbformat_minor": 5
}
