{
 "cells": [
  {
   "cell_type": "raw",
   "id": "65ea983d",
   "metadata": {},
   "source": [
    "What exactly is []?\n",
    "ans: Empty list"
   ]
  },
  {
   "cell_type": "raw",
   "id": "287deeba",
   "metadata": {},
   "source": [
    "In a list of values stored in a variable called spam, how would you assign the value 'hello' as the third value? (Assume [2, 4, 6, 8, 10] are in spam.)\n",
    "ans: spam[3]=\"Hello\""
   ]
  },
  {
   "cell_type": "raw",
   "id": "2c36052b",
   "metadata": {},
   "source": [
    "Let's pretend the spam includes the list ['a', 'b', 'c', 'd'] for the next three queries."
   ]
  },
  {
   "cell_type": "raw",
   "id": "4dd38079",
   "metadata": {},
   "source": [
    "What is the value of spam[int(int('3' * 2) / 11)]?\n",
    "ans=d"
   ]
  },
  {
   "cell_type": "raw",
   "id": "eed44e70",
   "metadata": {},
   "source": [
    "What is the value of spam[-1]?\n",
    "ans=d"
   ]
  },
  {
   "cell_type": "raw",
   "id": "ddcda03c",
   "metadata": {},
   "source": [
    "What is the value of spam[:2]?\n",
    "ans= ['a','b']"
   ]
  },
  {
   "cell_type": "raw",
   "id": "31a1bf7c",
   "metadata": {},
   "source": [
    "Let's pretend bacon has the list [3.14, 'cat', 11, 'cat', True] for the next three questions."
   ]
  },
  {
   "cell_type": "raw",
   "id": "0cbfd31c",
   "metadata": {},
   "source": [
    "What is the value of bacon.index('cat')?\n",
    "ans: 1"
   ]
  },
  {
   "cell_type": "raw",
   "id": "4cf94427",
   "metadata": {},
   "source": [
    "How does bacon.append(99) change the look of the list value in bacon?\n",
    "ans: [3.14, 'cat', 11, 'cat', True,99]"
   ]
  },
  {
   "cell_type": "raw",
   "id": "6a16eace",
   "metadata": {},
   "source": [
    "How does bacon.remove('cat') change the look of the list in bacon?\n",
    "ans:  [3.14,11, 'cat', True,99]"
   ]
  },
  {
   "cell_type": "raw",
   "id": "ae22ba61",
   "metadata": {},
   "source": [
    "What are the list concatenation and list replication operators?\n",
    "ans:list concatenation is + and list replication is *"
   ]
  },
  {
   "cell_type": "raw",
   "id": "a10b952f",
   "metadata": {},
   "source": [
    "What is difference between the list methods append() and insert()?\n",
    "ans: append method is used to add element in list at the end of the list.\n",
    "     insert method is used to add element at the index which is given in parameter"
   ]
  },
  {
   "cell_type": "raw",
   "id": "d2c00cad",
   "metadata": {},
   "source": [
    "What are the two methods for removing items from a list?\n",
    "ans: pop() and remove()"
   ]
  },
  {
   "cell_type": "raw",
   "id": "d3681db2",
   "metadata": {},
   "source": [
    "Describe how list values and string values are identical.\n",
    "ans: Both are ordered collections of elements"
   ]
  },
  {
   "cell_type": "raw",
   "id": "c8516af9",
   "metadata": {},
   "source": [
    "What's the difference between tuples and lists?\n",
    "ans: List is mutable and tuple is immutable"
   ]
  },
  {
   "cell_type": "raw",
   "id": "33decf9a",
   "metadata": {},
   "source": [
    "How do you type a tuple value that only contains the integer 42?\n",
    "ans: (42,)"
   ]
  },
  {
   "cell_type": "raw",
   "id": "ed42a2e9",
   "metadata": {},
   "source": [
    "How do you get a list value's tuple form? How do you get a tuple value's list form?\n",
    "ans:list value's tuple form\n",
    "    list_tuple = list(map(tuple,lst)"
   ]
  },
  {
   "cell_type": "raw",
   "id": "8ca322b7",
   "metadata": {},
   "source": [
    "Variables that \"contain\" list values are not necessarily lists themselves. Instead, what do they contain?\n",
    "ans : Variables will contain references to list values rather than list values themselves. But for strings and integer values, variables simply contain the string or integer value."
   ]
  },
  {
   "cell_type": "raw",
   "id": "75af3021",
   "metadata": {},
   "source": [
    "How do you distinguish between copy.copy() and copy.deepcopy()?\n",
    "ans : In case of deep copy, a copy of object is copied in other object. It means that any changes made to a copy of object do not reflect in the original object\n",
    "In case of shallow copy, a reference of object is copied in other object. It means that any changes made to a copy of object do reflect in the original object"
   ]
  }
 ],
 "metadata": {
  "kernelspec": {
   "display_name": "Python 3 (ipykernel)",
   "language": "python",
   "name": "python3"
  },
  "language_info": {
   "codemirror_mode": {
    "name": "ipython",
    "version": 3
   },
   "file_extension": ".py",
   "mimetype": "text/x-python",
   "name": "python",
   "nbconvert_exporter": "python",
   "pygments_lexer": "ipython3",
   "version": "3.9.7"
  }
 },
 "nbformat": 4,
 "nbformat_minor": 5
}
